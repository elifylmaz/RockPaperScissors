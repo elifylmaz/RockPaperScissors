{
 "cells": [
  {
   "cell_type": "code",
   "execution_count": 23,
   "id": "3995c573-1d75-4895-a62e-1aa51a6b73f1",
   "metadata": {},
   "outputs": [
    {
     "name": "stdin",
     "output_type": "stream",
     "text": [
      "Choose your action:  rock\n"
     ]
    },
    {
     "name": "stdout",
     "output_type": "stream",
     "text": [
      "--------------------------------------------------\n",
      "Round number: 1\n",
      "computer: rock\n",
      "player: rock\n",
      "Tie, same action\n",
      "--------------------------------------------------\n"
     ]
    },
    {
     "name": "stdin",
     "output_type": "stream",
     "text": [
      "Choose your action:  paper\n"
     ]
    },
    {
     "name": "stdout",
     "output_type": "stream",
     "text": [
      "--------------------------------------------------\n",
      "Round number: 2\n",
      "computer: scissors\n",
      "player: paper\n",
      "Winner is: Computer\n",
      "--------------------------------------------------\n"
     ]
    },
    {
     "name": "stdin",
     "output_type": "stream",
     "text": [
      "Choose your action:  rock\n"
     ]
    },
    {
     "name": "stdout",
     "output_type": "stream",
     "text": [
      "--------------------------------------------------\n",
      "Round number: 3\n",
      "computer: rock\n",
      "player: rock\n",
      "Tie, same action\n",
      "--------------------------------------------------\n"
     ]
    },
    {
     "name": "stdin",
     "output_type": "stream",
     "text": [
      "Choose your action:  rock\n"
     ]
    },
    {
     "name": "stdout",
     "output_type": "stream",
     "text": [
      "--------------------------------------------------\n",
      "Round number: 4\n",
      "computer: rock\n",
      "player: rock\n",
      "Tie, same action\n",
      "--------------------------------------------------\n"
     ]
    },
    {
     "name": "stdin",
     "output_type": "stream",
     "text": [
      "Choose your action:  2313\n"
     ]
    },
    {
     "name": "stdout",
     "output_type": "stream",
     "text": [
      "Please enter valid value!\n"
     ]
    },
    {
     "name": "stdin",
     "output_type": "stream",
     "text": [
      "Choose your action:  rosc\n"
     ]
    },
    {
     "name": "stdout",
     "output_type": "stream",
     "text": [
      "Please enter valid value!\n"
     ]
    },
    {
     "name": "stdin",
     "output_type": "stream",
     "text": [
      "Choose your action:  paper\n"
     ]
    },
    {
     "name": "stdout",
     "output_type": "stream",
     "text": [
      "--------------------------------------------------\n",
      "Round number: 5\n",
      "computer: scissors\n",
      "player: paper\n",
      "Winner is: Computer\n",
      "--------------------------------------------------\n",
      "Computer won the game 2:0\n"
     ]
    },
    {
     "name": "stdin",
     "output_type": "stream",
     "text": [
      "Do you want to play again? (yes/no):  yes\n"
     ]
    },
    {
     "name": "stdout",
     "output_type": "stream",
     "text": [
      "Computer's answer: yes\n"
     ]
    },
    {
     "name": "stdin",
     "output_type": "stream",
     "text": [
      "Choose your action:  paper\n"
     ]
    },
    {
     "name": "stdout",
     "output_type": "stream",
     "text": [
      "--------------------------------------------------\n",
      "Round number: 1\n",
      "computer: scissors\n",
      "player: paper\n",
      "Winner is: Computer\n",
      "--------------------------------------------------\n"
     ]
    },
    {
     "name": "stdin",
     "output_type": "stream",
     "text": [
      "Choose your action:  scissors\n"
     ]
    },
    {
     "name": "stdout",
     "output_type": "stream",
     "text": [
      "--------------------------------------------------\n",
      "Round number: 2\n",
      "computer: paper\n",
      "player: scissors\n",
      "Winner is: Player\n",
      "--------------------------------------------------\n"
     ]
    },
    {
     "name": "stdin",
     "output_type": "stream",
     "text": [
      "Choose your action:  scissors\n"
     ]
    },
    {
     "name": "stdout",
     "output_type": "stream",
     "text": [
      "--------------------------------------------------\n",
      "Round number: 3\n",
      "computer: rock\n",
      "player: scissors\n",
      "Winner is: Computer\n",
      "--------------------------------------------------\n",
      "Computer won the game 2:1\n"
     ]
    },
    {
     "name": "stdin",
     "output_type": "stream",
     "text": [
      "Do you want to play again? (yes/no):  nt\n"
     ]
    },
    {
     "name": "stdout",
     "output_type": "stream",
     "text": [
      "Please enter 'yes' or 'no'.\n"
     ]
    },
    {
     "name": "stdin",
     "output_type": "stream",
     "text": [
      "Do you want to play again? (yes/no):  no\n"
     ]
    },
    {
     "name": "stdout",
     "output_type": "stream",
     "text": [
      "Computer's answer: no\n",
      "Thanks for playing!\n"
     ]
    }
   ],
   "source": [
    "import random\n",
    "\n",
    "# Create a list containing the three actions of the game\n",
    "action_list = [\"rock\", \"paper\", \"scissors\"]\n",
    "\n",
    "def tas_kagit_makas_elif_yilmaz():\n",
    "    computer_score = 0\n",
    "    player_score = 0\n",
    "    round_counter = 0\n",
    "\n",
    "    while True:\n",
    "        player_choice = input(\"Choose your action: \").lower()\n",
    "        \n",
    "        # Validate player choice\n",
    "        if player_choice not in action_list:\n",
    "            print(\"Please enter valid value!\")\n",
    "            continue\n",
    "\n",
    "        round_counter += 1\n",
    "        print(\"-----\" * 10)\n",
    "        print(\"Round number:\", round_counter)\n",
    "        \n",
    "        #Randomly select an action for the computer\n",
    "        computer_choice = random.choice(action_list)\n",
    "\n",
    "        print(\"computer:\", computer_choice)\n",
    "        print(\"player:\", player_choice)\n",
    "\n",
    "        if computer_choice == player_choice:\n",
    "            print(\"Tie, same action\")\n",
    "        elif computer_choice == \"paper\":\n",
    "            if player_choice == \"rock\":\n",
    "                print(\"Winner is: Computer\")\n",
    "                computer_score += 1\n",
    "            else:\n",
    "                print(\"Winner is: Player\")\n",
    "                player_score += 1\n",
    "        elif computer_choice == \"rock\":\n",
    "            if player_choice == \"scissors\":\n",
    "                print(\"Winner is: Computer\")\n",
    "                computer_score += 1\n",
    "            else:\n",
    "                print(\"Winner is: Player\")\n",
    "                player_score += 1\n",
    "        elif computer_choice == \"scissors\":\n",
    "            if player_choice == \"paper\":\n",
    "                print(\"Winner is: Computer\")\n",
    "                computer_score += 1\n",
    "            else:\n",
    "                print(\"Winner is: Player\")\n",
    "                player_score += 1\n",
    "\n",
    "        print(\"-----\" * 10)\n",
    "        \n",
    "         # End the game if either the computer or player reaches a score of 2\n",
    "        if computer_score == 2 or player_score == 2:\n",
    "            break\n",
    "\n",
    "    # Print the final outcome of the game\n",
    "    if computer_score > player_score:\n",
    "        print(f\"Computer won the game {computer_score}:{player_score}\")\n",
    "    else:\n",
    "        print(f\"Player won the game {computer_score}:{player_score}\")\n",
    "\n",
    "def play_again():\n",
    "    while True:\n",
    "         # Ask the player if they want to play again\n",
    "        player_again = input(\"Do you want to play again? (yes/no): \").lower()\n",
    "        if player_again in [\"yes\", \"no\"]:\n",
    "            break\n",
    "        print(\"Please enter 'yes' or 'no'.\")\n",
    "\n",
    "    computer_again = random.choice([\"yes\", \"no\"])\n",
    "    print(f\"Computer's answer: {computer_again}\")\n",
    "\n",
    "    return player_again == \"yes\" and computer_again == \"yes\"\n",
    "\n",
    "# Main game loop\n",
    "while True:\n",
    "    tas_kagit_makas_elif_yilmaz()\n",
    "\n",
    "    if not play_again():\n",
    "        print(\"Thanks for playing!\")\n",
    "        break\n"
   ]
  },
  {
   "cell_type": "code",
   "execution_count": null,
   "id": "684498a0-d150-4a56-aa48-87d1504414d5",
   "metadata": {},
   "outputs": [],
   "source": []
  }
 ],
 "metadata": {
  "kernelspec": {
   "display_name": "Python 3 (ipykernel)",
   "language": "python",
   "name": "python3"
  },
  "language_info": {
   "codemirror_mode": {
    "name": "ipython",
    "version": 3
   },
   "file_extension": ".py",
   "mimetype": "text/x-python",
   "name": "python",
   "nbconvert_exporter": "python",
   "pygments_lexer": "ipython3",
   "version": "3.11.7"
  }
 },
 "nbformat": 4,
 "nbformat_minor": 5
}
